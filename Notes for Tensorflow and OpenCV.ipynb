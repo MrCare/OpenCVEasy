{
 "cells": [
  {
   "cell_type": "markdown",
   "metadata": {},
   "source": [
    "# 应用库的加载"
   ]
  },
  {
   "cell_type": "code",
   "execution_count": 1,
   "metadata": {},
   "outputs": [],
   "source": [
    "import tensorflow as tf\n",
    "import cv2\n",
    "import numpy as np\n",
    "import matplotlib.pyplot as plt"
   ]
  },
  {
   "cell_type": "markdown",
   "metadata": {},
   "source": [
    "# Tensorflow 与 OpenCv的基本操作"
   ]
  },
  {
   "cell_type": "code",
   "execution_count": 2,
   "metadata": {},
   "outputs": [],
   "source": [
    "import tensorflow as tf"
   ]
  },
  {
   "cell_type": "code",
   "execution_count": 2,
   "metadata": {},
   "outputs": [
    {
     "name": "stdout",
     "output_type": "stream",
     "text": [
      "b'hello tf!'\n"
     ]
    }
   ],
   "source": [
    "a = tf.constant('hello tf!')\n",
    "sess = tf.Session()\n",
    "print(sess.run(a))"
   ]
  },
  {
   "cell_type": "code",
   "execution_count": 1,
   "metadata": {},
   "outputs": [],
   "source": [
    "import cv2"
   ]
  },
  {
   "cell_type": "code",
   "execution_count": 2,
   "metadata": {},
   "outputs": [
    {
     "data": {
      "text/plain": [
       "-1"
      ]
     },
     "execution_count": 2,
     "metadata": {},
     "output_type": "execute_result"
    }
   ],
   "source": [
    "img = cv2.imread('img/example.jpg',1) #图片名称 /0，黑白 1，彩色\n",
    "for x in range(100):\n",
    "    img[x,100] = (255,0,0)# img[行数，列数]\n",
    "cv2.imshow('me',img)\n",
    "cv2.waitKey()# 括号内可以传入暂停秒数，然后继续程序"
   ]
  },
  {
   "cell_type": "code",
   "execution_count": 13,
   "metadata": {},
   "outputs": [
    {
     "name": "stdout",
     "output_type": "stream",
     "text": [
      "Tensor(\"Const_7:0\", shape=(), dtype=float32)\n",
      "<tf.Variable 'var_6:0' shape=() dtype=int32_ref>\n",
      "2.5\n",
      "10\n",
      "10\n"
     ]
    }
   ],
   "source": [
    "a = tf.constant(2.5)# 常量\n",
    "b = tf.Variable(10,name = 'var')#变量\n",
    "print(a)\n",
    "print(b)\n",
    "sess = tf.Session()\n",
    "print(sess.run(a))#打印常量需用Session的run方法\n",
    "init = tf.global_variables_initializer()#打印变量需先初始化\n",
    "sess.run(init)\n",
    "print(sess.run(b))\n",
    "sess.close()#最后还要关闭\n",
    "'''\n",
    "本质tf = tensor + 计算图\n",
    "tensor 数据\n",
    "op\n",
    "graphs 数据操作\n",
    "Session\n",
    "'''\n",
    "#或者用with方法：\n",
    "init = tf.global_variables_initializer()\n",
    "sess = tf.Session()\n",
    "with sess:\n",
    "    sess.run(init)\n",
    "    print(sess.run(b))"
   ]
  },
  {
   "cell_type": "markdown",
   "metadata": {},
   "source": [
    "# tf常量与变量的运算"
   ]
  },
  {
   "cell_type": "code",
   "execution_count": 18,
   "metadata": {},
   "outputs": [
    {
     "name": "stdout",
     "output_type": "stream",
     "text": [
      "8\n",
      "4\n",
      "12\n",
      "3.0\n",
      "constant and constant\n",
      "8\n",
      "4\n",
      "12\n",
      "3.0\n",
      "2\n",
      "constant and variable\n"
     ]
    }
   ],
   "source": [
    "a = tf.constant(6)\n",
    "b = tf.constant(2)\n",
    "Add = tf.add(a,b)\n",
    "Mul = tf.multiply(a,b)\n",
    "Sub = tf.subtract(a,b)\n",
    "Div = tf.divide(a,b)\n",
    "with tf.Session() as sess:\n",
    "    print(sess.run(Add))\n",
    "    print(sess.run(Sub))\n",
    "    print(sess.run(Mul))\n",
    "    print(sess.run(Div))\n",
    "    print('constant and constant')\n",
    "\n",
    "a = tf.constant(6)\n",
    "b = tf.Variable(2)\n",
    "Add = tf.add(a,b)\n",
    "Mul = tf.multiply(a,b)\n",
    "Sub = tf.subtract(a,b)\n",
    "Div = tf.divide(a,b)\n",
    "init = tf.global_variables_initializer()\n",
    "with tf.Session() as sess:\n",
    "    sess.run(init)\n",
    "    print(sess.run(Add))\n",
    "    print(sess.run(Sub))\n",
    "    print(sess.run(Mul))\n",
    "    print(sess.run(Div))\n",
    "    print(b.eval())#计算图实现的另一种方法 eval方法,相当于get_default_session().run()\n",
    "    print('constant and variable')"
   ]
  },
  {
   "cell_type": "markdown",
   "metadata": {},
   "source": [
    "# tf 矩阵基础"
   ]
  },
  {
   "cell_type": "code",
   "execution_count": 19,
   "metadata": {},
   "outputs": [
    {
     "name": "stdout",
     "output_type": "stream",
     "text": [
      "8.0\n"
     ]
    }
   ],
   "source": [
    "#placehold\n",
    "a = tf.placeholder(tf.float32)\n",
    "b = tf.placeholder(tf.float32)\n",
    "Add = tf.add(a, b)\n",
    "with tf.Session() as sess:\n",
    "    print(sess.run(Add,feed_dict = {a:6,b:2})) #用了一个先定义后传参的方法 feed_dict"
   ]
  },
  {
   "cell_type": "code",
   "execution_count": 25,
   "metadata": {},
   "outputs": [
    {
     "name": "stdout",
     "output_type": "stream",
     "text": [
      "[array([6, 6]), array([2]), array([6]), array([6])]\n",
      "[array([[24]]), array([[9, 9]])]\n"
     ]
    }
   ],
   "source": [
    "#矩阵切片与运算法则\n",
    "a = tf.constant([[6,6]])\n",
    "b = tf.constant([[2],\n",
    "                 [2]])\n",
    "c = tf.constant([[3,3]])\n",
    "Mul = tf.matmul(a,b)\n",
    "Add = tf.add(a,c)\n",
    "with tf.Session() as sess:\n",
    "    print(sess.run([a[0],b[0],a[:,0],a[:,1]]))#矩阵的切片\n",
    "    print(sess.run([Mul,Add]))#sess传入列表打印多个tensor的值"
   ]
  },
  {
   "cell_type": "code",
   "execution_count": 33,
   "metadata": {},
   "outputs": [
    {
     "name": "stdout",
     "output_type": "stream",
     "text": [
      "[array([[0, 0, 0],\n",
      "       [0, 0, 0]]), array([0.       , 0.2      , 0.4      , 0.6      , 0.8      , 1.       ,\n",
      "       1.2      , 1.4      , 1.6      , 1.8000001, 2.       ],\n",
      "      dtype=float32), array([[0.5626224 , 1.2264972 , 0.3403195 ],\n",
      "       [0.35516214, 0.81942   , 1.4905043 ]], dtype=float32)]\n"
     ]
    }
   ],
   "source": [
    "mat0 = tf.zeros([2,3])\n",
    "mat1 = tf.ones([3,2])\n",
    "mat2 = tf.fill([2,3],15)\n",
    "mat3 = tf.zeros_like(mat2)#零阵填充\n",
    "mat4 = tf.linspace(0.,2.,11)# 线性切分\n",
    "mat5 = tf.random_uniform([2,3],-1,2)# 随机矩阵[维度]，最小值，最大值\n",
    "with tf.Session() as sess:\n",
    "    print(sess.run([mat3,mat4,mat5]))"
   ]
  },
  {
   "cell_type": "markdown",
   "metadata": {},
   "source": [
    "# numpy矩阵与matplotlib复习"
   ]
  },
  {
   "cell_type": "code",
   "execution_count": 3,
   "metadata": {},
   "outputs": [],
   "source": [
    "import numpy as np #详见python数据分析笔记\n",
    "import matplotlib.pyplot as plt"
   ]
  },
  {
   "cell_type": "code",
   "execution_count": 48,
   "metadata": {
    "scrolled": true
   },
   "outputs": [
    {
     "data": {
      "image/png": "[encoded data removed]",
      "text/plain": [
       "<Figure size 432x288 with 1 Axes>"
      ]
     },
     "metadata": {
      "needs_background": "light"
     },
     "output_type": "display_data"
    }
   ],
   "source": [
    "x = np.arange(1,9)\n",
    "y = np.array([3,5,7,6,8,9,7,15])\n",
    "plt.plot(x,y,'r')# 折线图 第三个参数是color第四个参数是线条的宽度\n",
    "plt.plot(x,y,'y',lw = 5)\n",
    "plt.bar(x,y,0.5,alpha = 0.5,color = 'b')# 柱状图 第三个参数是柱宽占比，第四个参数是透明度，第五个参数是颜色\n",
    "plt.show()"
   ]
  },
  {
   "cell_type": "markdown",
   "metadata": {},
   "source": [
    "# 图片缩放方法与简单实现\n",
    "缩放的本质就是将原图的像素点按一定规则提取出来，形成新的图像，理论上讲如果像素点是连续的，那么直接插值即可，然而实际中像素点是离散的，所以要根据一定的方法选择用哪些点代替插值后的像素点。距离插值点最近的四个点一定组成一个横纵坐标为整数的小方块。\n",
    "## 1 最近邻域插值\n",
    "选择小方块中距离插值点最近的点作为其近似点。插值点的数据来自于原图的像素数据\n",
    "## 2 双线性插值\n",
    "将插值点进行两次投影，让后利用结果计算最终插值点的值，插值点的数据来自于原图数据的插值"
   ]
  },
  {
   "cell_type": "code",
   "execution_count": 9,
   "metadata": {},
   "outputs": [
    {
     "data": {
      "text/plain": [
       "-1"
      ]
     },
     "execution_count": 9,
     "metadata": {},
     "output_type": "execute_result"
    }
   ],
   "source": [
    "'''\n",
    "最近邻域插值的算法原理：确定\n",
    "'''\n",
    "img = cv2.imread('1.JPG',1)\n",
    "height, width = img.shape[:2]\n",
    "dst_h = int(height / 2)\n",
    "dst_w = int(width / 2)\n",
    "dst_image = np.zeros_like(img)#这样有留黑 #np.zeros((dst_h,dst_w,3),np.uint8) #0-255 \n",
    "for i in range(dst_h):\n",
    "    for j in range(dst_w):\n",
    "        i_new = int(i * (height * 1.0 / dst_h))\n",
    "        j_new = int(j * (width * 1.0 / dst_w))\n",
    "        dst_image[i,j] = img[i_new,j_new]\n",
    "#dst = cv2.resize(img,(dst_h,dst_w))\n",
    "cv2.imshow('dst',dst_image)\n",
    "cv2.waitKey()"
   ]
  },
  {
   "cell_type": "markdown",
   "metadata": {},
   "source": [
    "# 图片操作\n",
    "\n",
    "操作|实质\n",
    "--------|------------------------\n",
    "图片剪切|相当于图片像素矩阵的切片\n",
    "图片位移|平移像素点，利用平移矩阵的乘法进行移位运算\n",
    "图片镜像|创建所需画布，并逐个赋予相应像素颜色取值\n",
    "图片仿射变幻|（位移，旋转，缩放）确定三个点对图片进行拉伸\n",
    "\n",
    "# 图片特效\n",
    "\n",
    "|操作|实质|API|\n",
    "| :-: | :-: | :-: |\n",
    "|**图像灰度** |RGB值相加取均值 或 RGB进行线性组合| cv2.cvtColor(name, cv2.COLOR_BGR2GRAY)|\n",
    "|**底板效果** |RGB值取反：彩色取反or灰度取反|  |\n",
    "|**马赛克效果**|定义多个像素组成的小块，指定某一个色素值取代小块的色素值| |\n",
    "|**毛玻璃效果**|定义多个像素组成的小块，在每一个小块中为每个像素指定色素值| |\n",
    "|**融合效果** |两张图片的像素融合| |\n",
    "|**颜色映射** |为每一个色素值指定新的色素值| |\n",
    "|**边缘检测** |卷积运算进行边缘二值化只保留边缘信息| |\n",
    "|**浮雕效果** |相邻像素相减突出边缘特征，再增加一个固定的值提升灰度等级| |\n",
    "|**颜色风格** |利用查找表一一映射，获利用公式，如果公式十分复杂则查找表性能要更好| |\n",
    "|**油画效果** |转化灰度，划分小块（10 * 10），分成灰度等级，统计最多的等级，任选一个符合要求的像素值，代替当前的小块| |\n",
    "\n",
    "# 灰度算法的优化\n",
    "\n",
    "灰度处理是图像运算的基础，因此要求一定的实时性，要求快速完成，快速实现\n",
    "\n",
    "## 优化思路(减少乘除运算次数，并用移位代替乘除)\n",
    "\n",
    "1.定点运算快于浮点运算\n",
    "2.加减运算快于乘除运算\n",
    "3.移位操作快于乘除运算\n",
    "### 算法实现思路如下\n",
    "灰度公式：$0.299r + 0.587g + 0.114b$\n",
    "\n",
    "优化这个公式：$(r + 2g + b) / 4$\n",
    "\n",
    "继续优化这个公式：$(r + (g<<1) + b)$>>2\n",
    "\n",
    "**向量化编程也是代码性能提高的关键因素**"
   ]
  },
  {
   "cell_type": "code",
   "execution_count": 12,
   "metadata": {},
   "outputs": [
    {
     "name": "stdout",
     "output_type": "stream",
     "text": [
      "Wall time: 24.3 s\n"
     ]
    }
   ],
   "source": [
    "'''\n",
    "灰度公式的循环未优化实现\n",
    "'''\n",
    "def grey_0():\n",
    "    img = cv2.imread('1.JPG',1)\n",
    "    height,width = img.shape[:2]\n",
    "    dst = np.zeros_like(img)\n",
    "    for i in range(height):\n",
    "        for j in range(width):\n",
    "            (b,g,r) = img[i,j]\n",
    "            grey = r * 0.299 + g * 0.587 + b * 0.114 \n",
    "            dst[i,j] = grey\n",
    "    cv2.imshow('dst',dst)\n",
    "    cv2.waitKey()\n",
    "%time grey_0()"
   ]
  },
  {
   "cell_type": "code",
   "execution_count": 14,
   "metadata": {},
   "outputs": [
    {
     "name": "stdout",
     "output_type": "stream",
     "text": [
      "Wall time: 11.2 s\n"
     ]
    }
   ],
   "source": [
    "'''\n",
    "灰度公式的优化实现\n",
    "'''\n",
    "def grey_1():\n",
    "    img = cv2.imread('1.JPG',1)\n",
    "    height,width = img.shape[:2]\n",
    "    dst = np.zeros_like(img)\n",
    "    for i in range(height):\n",
    "        for j in range(width):\n",
    "            (b,g,r) = img[i,j]\n",
    "            b = int(b)\n",
    "            g = int(g)\n",
    "            r = int(r)\n",
    "            grey = (r + (g << 1) + b) >> 2\n",
    "            dst[i,j] = grey\n",
    "    cv2.imshow('dst',dst)\n",
    "    cv2.waitKey()\n",
    "%time grey_1()"
   ]
  },
  {
   "cell_type": "markdown",
   "metadata": {},
   "source": [
    "精度运算比正常的方法快了一倍，但是值得注意的是，移位操作要用括号保持运算优先性。下面看看内置函数数的性能"
   ]
  },
  {
   "cell_type": "code",
   "execution_count": 5,
   "metadata": {},
   "outputs": [
    {
     "name": "stdout",
     "output_type": "stream",
     "text": [
      "Wall time: 2.26 s\n"
     ]
    }
   ],
   "source": [
    "def grey_2():\n",
    "    img = cv2.imread('1.JPG',1)\n",
    "    height,width = img.shape[:2]\n",
    "    dst = cv2.cvtColor(img,cv2.COLOR_BGR2GRAY)\n",
    "    cv2.imshow('dst',dst)\n",
    "    cv2.waitKey(0)\n",
    "%time grey_2()"
   ]
  },
  {
   "cell_type": "markdown",
   "metadata": {},
   "source": [
    "内置函数仅仅需要不到3秒钟就可以完成，效果又提升了5倍\n",
    "\n",
    "# 图形绘制\n",
    "\n",
    "| 操作 | 过程 | API |\n",
    "| :-: | :-: | :-: |\n",
    "| 线段绘制 | 初始化画布后绘制 | cv2.line(dst,(begin),(end),(color bgr),line_width, cv2.LINE_AA # line_type) |\n",
    "| 绘制三角形 | 三条线首尾相连 | cv2.line(dst,(begin),(end),(coler bgr)) * 3 |\n",
    "| 绘制矩形 | 定位一条对角线以构造矩形 | cv2.rectangle(img,(左上角),(右下角),(color bgr),-1#填充 >0 #线条宽度 |\n",
    "| 绘制圆形 | 定位圆心和半径 | cv2.circle(img,(begin),radius,(color bgr),-1#填充 >0 #线条宽度)|\n",
    "| 绘制椭圆（圆弧） | 定位圆心，轴长，偏转角度，偏转位置 | cv2.ellipse（ds,(圆心),(轴长）,圆弧角度，起始角度，终止角度，(color bgr),-1#填充 |\n",
    "| 绘制任意多边形 | 定位多边形的定点 | cv2.polylines(dst,[points],True,(color bgr)) |\n",
    "\n",
    "# 文字图片绘制\n",
    "\n",
    "| 操作 | 过程 | API |\n",
    "| :-: | :-: | :-: |\n",
    "| 绘制文字 | 设置字体，调用API | cv2.putText(img,'Text',(begin),font,font_size,(color rgb),line_ width,cv2.LINE_AA # line_type |\n",
    "| 绘制图片 | 缩小图片，放在固定的位置 | cv2.resize(img,(width,height)) |\n",
    "\n",
    "# 图片美化\n",
    "\n",
    "| 操作 | 过程 | 效果 |\n",
    "| :-: | :-: | :-: |\n",
    "| 直方图均值化 | 直方图：0-255的概率密度函数 均值化：让聚合在一起的直方图尽可能分开 | 图片变亮变清晰 |\n",
    "| 图片修补 | 准备蒙版图片，尽可能描述待修补区域 | 修补有缺陷的图像 |\n",
    "| 亮度增强 | 将灰度值增加一个固定值或者变为原来的1.1-1.2倍 | 图像整体变亮 |\n",
    "| 磨皮美白 | 双边滤波器实现 | 去雀斑，皮肤美白 |\n",
    "| 图片滤波 | 高斯滤波，中值滤波，均值滤波 | 图像得到滤波处理 |\n",
    "| 图形卷积 | 矩阵对应元素相乘再相加 | 边缘检测 |\n",
    "\n",
    "## 彩色图片直方图"
   ]
  },
  {
   "cell_type": "code",
   "execution_count": 3,
   "metadata": {},
   "outputs": [
    {
     "data": {
      "text/plain": [
       "-1"
      ]
     },
     "execution_count": 3,
     "metadata": {},
     "output_type": "execute_result"
    }
   ],
   "source": [
    "def ImageHist(image,type):\n",
    "    color = (255,255,255)\n",
    "    windowName = 'Gray'\n",
    "    if type == 31:\n",
    "        color = (255,0,0)\n",
    "        windowName = 'B Hist'\n",
    "    elif type == 32:\n",
    "        color = (0,255,0)\n",
    "        windowName = 'G Hist'\n",
    "    elif type == 33:\n",
    "        color = (0,0,255)\n",
    "        windowName = 'R Hist'\n",
    "    #绘制直方图：image，通道（0灰度，1彩色），mask蒙版，直方图size，像素范围 \n",
    "    hist = cv2.calcHist([image],[0],None,[256],[0.0,255.0]) \n",
    "    minV,maxV,minL,maxL = cv2.minMaxLoc(hist)\n",
    "    histImg = np.zeros([256,256,3],np.uint8)\n",
    "    for h in range(256):\n",
    "        intenNormal = int(hist[h] * 256 / maxV) #归一化处于0-256之间\n",
    "        cv2.line(histImg,(h,256),(h,256-intenNormal),color)\n",
    "    cv2.imshow(windowName,histImg)\n",
    "    return histImg\n",
    "\n",
    "img = cv2.imread('1.JPG',1) \n",
    "channels = cv2.split(img) # RGB - R G B\n",
    "for i in range(0,3):\n",
    "    ImageHist(channels[i],31+i)#若是31，32，33以外的数则显示灰度直方图\n",
    "cv2.waitKey(0)    "
   ]
  },
  {
   "cell_type": "markdown",
   "metadata": {},
   "source": [
    "## 直方图均值化\n",
    "\n",
    "觉得更不如说是对比度增加，将RGB值的集中程度变为两极趋势  \n",
    "- 灰度图像的直方图均值化对比结果：\n",
    "    * grey = cv2.cvtColor(img,cv2.COLOR_BGR2GRAY)\n",
    "    * API：cv2.equalizeHist(grey)"
   ]
  },
  {
   "cell_type": "code",
   "execution_count": 3,
   "metadata": {},
   "outputs": [
    {
     "data": {
      "text/plain": [
       "-1"
      ]
     },
     "execution_count": 3,
     "metadata": {},
     "output_type": "execute_result"
    }
   ],
   "source": [
    "img = cv2.imread('1.JPG',1) \n",
    "gray = cv2.cvtColor(img,cv2.COLOR_BGR2GRAY)\n",
    "cv2.imshow('src',gray)\n",
    "dst = cv2.equalizeHist(gray)\n",
    "cv2.imshow('dst',dst)\n",
    "cv2.waitKey(0)"
   ]
  },
  {
   "cell_type": "markdown",
   "metadata": {},
   "source": [
    "* 彩色图像的直方图均值化结果\n",
    "    * (b, g, r) = cv2.split(img) # 返回三通道数组\n",
    "    * API：cv2.equalizeHist()只能处理单通道，需要对彩色图片进行通道转化"
   ]
  },
  {
   "cell_type": "code",
   "execution_count": 7,
   "metadata": {},
   "outputs": [
    {
     "data": {
      "text/plain": [
       "-1"
      ]
     },
     "execution_count": 7,
     "metadata": {},
     "output_type": "execute_result"
    }
   ],
   "source": [
    "img = cv2.imread('1.JPG',1) \n",
    "cv2.imshow('src',img)\n",
    "(b, g, r) = cv2.split(img)\n",
    "bH = cv2.equalizeHist(b)\n",
    "gH = cv2.equalizeHist(g)\n",
    "rH = cv2.equalizeHist(r)\n",
    "dst = cv2.merge((bH,gH,rH))\n",
    "cv2.imshow('dst',dst)\n",
    "cv2.waitKey(0)"
   ]
  },
  {
   "cell_type": "markdown",
   "metadata": {},
   "source": [
    "* YUV 图像均值化"
   ]
  },
  {
   "cell_type": "code",
   "execution_count": 11,
   "metadata": {},
   "outputs": [
    {
     "data": {
      "text/plain": [
       "-1"
      ]
     },
     "execution_count": 11,
     "metadata": {},
     "output_type": "execute_result"
    }
   ],
   "source": [
    "img = cv2.imread('1.JPG',1) \n",
    "cv2.imshow('src',img)\n",
    "imgYUV = cv2.cvtColor(img,cv2.COLOR_BGR2YCrCb)\n",
    "channelYUV = cv2.split(imgYUV)\n",
    "channelYUV[0] = cv2.equalizeHist(channelYUV[0])\n",
    "channels = cv2.merge(channelYUV)\n",
    "dst = cv2.cvtColor(channels,cv2.COLOR_YCrCb2BGR)\n",
    "cv2.imshow('dst',dst)\n",
    "cv2.waitKey(0)"
   ]
  },
  {
   "cell_type": "markdown",
   "metadata": {},
   "source": [
    "## 图片修补\n",
    "* 需要蒙版 paint：标记处要修补的位置\n",
    "    * API：cv2.inpaint(待修补图片,paint,3，cv2.INPAINT_TELEA)\n",
    "\n",
    "## 图片滤波\n",
    "* 高斯滤波\n",
    "    * API：cv2.GaussianBlur(img,(5.5),1.5) #高斯模糊\n",
    "* 均值滤波\n",
    "    * 卷积和均值处理原像素值\n",
    "* 中值滤波\n",
    "    * 卷积和中位数处于原像素值\n",
    "\n",
    "# 机器学习在图像处理中的应用\n",
    "| 内容 | 应用 |\n",
    "| :-: | :-: |\n",
    "| 视频与文件的分解合成 | 样本的采集 |\n",
    "| Hog 特征原理 | 物体识别，行人检测 |\n",
    "| Haar特征原理 | 人脸识别 |\n",
    "| Adaboost分类器 | 集成分类器 |\n",
    "| SVM分类器 | 单分类器 |  \n",
    "\n",
    "## 视频分解图片&图片合成视频\n",
    "* 用于获得数据\n",
    "* API:\n",
    "\n",
    "```\n",
    "cv2.VideoCapture('视频路径') # 打开视频`\n",
    "cap.isOpened # 查看视频是否可以打开\n",
    "fps = cap.get(cv2.CAP_PROP_FPS) # 获得图片帧率\n",
    "width = int(cap.get(cv2.CAP_PROP_FRAME_WIDTH))\n",
    "height = int(cap.get(cv2.CAP_PROP_FRAME_HEIGHT)\n",
    "(flag,frame) = cap.read() # 读取每一帧 是否成功：flag(True or Flase) 图片内容：frame\n",
    "cv2.imwrite(filename,frame,[cv2.IMWRITE_JPEG QUALITY,100]) # 写入图片并控制质量\n",
    "```\n",
    "* 取出多少图片需要用while循环控制\n",
    "\n",
    "* API:\n",
    "\n",
    "```\n",
    "cv2.imread('image1,jpg')\n",
    "size = img.shape[:2] # (height, width)\n",
    "VideoWrite = cv2.VideoWriter('file_name',-1,5,size) # 写入对象 1 file_name 2 编码器 3 帧率（每秒展示多少图片）4 尺寸\n",
    "VideoWrite.write(img) # 写入方法 1 jpg data\n",
    "```\n",
    "* 先创建对象，然后用方法写入\n",
    "\n",
    "## Haar特征  \n",
    "* 以上特征就是用一系列的算法计算提取出来的  \n",
    "* 通过特征训练出来的模型会以xml格式储存，或者其他超文本标记语言格式储存  \n",
    "\n",
    "加载模型之后 加载预测文件 再预测  \n",
    "\n",
    "## Hog特征  \n",
    "* 模块的划分\n",
    "    * image：整个图片\n",
    "    * win：窗体（特征计算最顶层单元，包含目标所有的描述信息，大小任意64 * 128） win step\n",
    "    * block：模块（小于win的大小，且win的宽高是其宽高的整数倍16 * 16） block step：在win下滑动8 * 8\n",
    "    * cell：最小单元8 * 8 在block中滑动，按照推荐比例，block中就有4个cell\n",
    "    * bin：9个bin 包含360度信息，一个cell要包含9个bin\n",
    "    * hog特征纬度：105 * 4 * 9 = 3780\n",
    "    * 梯度的大小和方向：\n",
    "* 模版计算梯度和方向\n",
    "* 计算bin和投影  \n",
    "* 计算每个模块的Hog特征\n",
    "\n",
    "两种方法都依赖于特征模版的滑动"
   ]
  },
  {
   "cell_type": "code",
   "execution_count": null,
   "metadata": {},
   "outputs": [],
   "source": []
  }
 ],
 "metadata": {
  "kernelspec": {
   "display_name": "Python 3",
   "language": "python",
   "name": "python3"
  },
  "language_info": {
   "codemirror_mode": {
    "name": "ipython",
    "version": 3
   },
   "file_extension": ".py",
   "mimetype": "text/x-python",
   "name": "python",
   "nbconvert_exporter": "python",
   "pygments_lexer": "ipython3",
   "version": "3.7.3"
  }
 },
 "nbformat": 4,
 "nbformat_minor": 2
}
