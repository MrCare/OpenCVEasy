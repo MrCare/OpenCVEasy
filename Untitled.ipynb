{
 "cells": [
  {
   "cell_type": "markdown",
   "metadata": {},
   "source": [
    "# Image Thresholding Smoothing\n",
    "\n",
    "内容：\n",
    "\n",
    "- openCV Python\n",
    "\n",
    "版本：\n",
    "\n",
    "- python 3.7.3\n",
    "\n",
    "- openCV 4.1.0.25\n",
    "\n",
    "官方文档：\n",
    "\n",
    "- [tutorial](https://docs.opencv.org/3.1.0/d6/d00/tutorial_py_root.html)\n",
    "\n",
    "知识点树：\n",
    "\n",
    "![MapOfFunction]()\n",
    "\n",
    "## 0. 应用库的加载"
   ]
  },
  {
   "cell_type": "code",
   "execution_count": 1,
   "metadata": {},
   "outputs": [],
   "source": [
    "import cv2\n",
    "import numpy as np\n",
    "import matplotlib.pyplot as plt\n",
    "import time\n",
    "\n",
    "from ipywidgets import interact"
   ]
  },
  {
   "cell_type": "code",
   "execution_count": null,
   "metadata": {},
   "outputs": [],
   "source": []
  }
 ],
 "metadata": {
  "kernelspec": {
   "display_name": "Python 3",
   "language": "python",
   "name": "python3"
  },
  "language_info": {
   "codemirror_mode": {
    "name": "ipython",
    "version": 3
   },
   "file_extension": ".py",
   "mimetype": "text/x-python",
   "name": "python",
   "nbconvert_exporter": "python",
   "pygments_lexer": "ipython3",
   "version": "3.7.3"
  }
 },
 "nbformat": 4,
 "nbformat_minor": 2
}
